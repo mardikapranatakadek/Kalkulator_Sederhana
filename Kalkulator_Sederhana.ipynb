{
  "nbformat": 4,
  "nbformat_minor": 0,
  "metadata": {
    "colab": {
      "provenance": [],
      "collapsed_sections": []
    },
    "kernelspec": {
      "name": "python3",
      "display_name": "Python 3"
    },
    "language_info": {
      "name": "python"
    }
  },
  "cells": [
    {
      "cell_type": "markdown",
      "source": [
        "# **Kalkulator Sederhana**"
      ],
      "metadata": {
        "id": "WvI9G7W2w2QJ"
      }
    },
    {
      "cell_type": "markdown",
      "source": [
        "#Nama : Kadek Mardika Pranata\n",
        "\n",
        "***Pengembangan Kalkulator***\n"
      ],
      "metadata": {
        "id": "ebSyPG3xxPGX"
      }
    },
    {
      "cell_type": "code",
      "execution_count": 6,
      "metadata": {
        "colab": {
          "base_uri": "https://localhost:8080/"
        },
        "id": "3xDZAM8Sw1L2",
        "outputId": "4a2bc098-1120-43c0-be4c-69efa0580f86"
      },
      "outputs": [
        {
          "name": "stdout",
          "output_type": "stream",
          "text": [
            "Masukkan bilangan pertama 1\n",
            "Masukkan bilangan kedua 1\n",
            "Operator Matematika +\n",
            "Hasil dari 1.0 + 1.0 = 2.0\n",
            "Masukkan bilangan pertama 1\n",
            "Masukkan bilangan kedua 1\n",
            "Operator Matematika -\n",
            "Hasil dari 1.0 - 1.0 = 0.0\n",
            "Masukkan bilangan pertama 1\n",
            "Masukkan bilangan kedua 1\n",
            "Operator Matematika *\n",
            "Hasil dari 1.0 * 1.0 = 1.0\n",
            "Masukkan bilangan pertama 1\n",
            "Masukkan bilangan kedua 1\n",
            "Operator Matematika /\n",
            "Hasil dari 1.0 / 1.0 = 1.0\n",
            "Masukkan bilangan pertama 1\n",
            "Masukkan bilangan kedua 1\n",
            "Operator Matematika 2\n"
          ]
        }
      ],
      "source": [
        "while True:\n",
        "  Bilangan_1 = float(input('Masukkan bilangan pertama '))\n",
        "  Bilangan_2 = float(input('Masukkan bilangan kedua '))\n",
        "  Operator = input('Operator Matematika ')\n",
        "\n",
        "  if  Operator == '+':\n",
        "    Hasil = Bilangan_1 + Bilangan_2\n",
        "    print('Hasil dari',Bilangan_1, Operator, Bilangan_2,\"=\", Hasil)\n",
        "  elif Operator == '-':\n",
        "    Hasil = Bilangan_1 - Bilangan_2\n",
        "    print('Hasil dari',Bilangan_1, Operator, Bilangan_2,\"=\", Hasil)\n",
        "  elif Operator == '*':\n",
        "    Hasil = Bilangan_1 * Bilangan_2\n",
        "    print('Hasil dari',Bilangan_1, Operator, Bilangan_2,\"=\", Hasil)\n",
        "  elif Operator == '/':\n",
        "    Hasil = Bilangan_1 / Bilangan_2\n",
        "    print('Hasil dari',Bilangan_1, Operator, Bilangan_2,\"=\", Hasil)\n",
        "  elif Operator != '+'or Operator !='-'or Operator !='*' or Operator != '/':\n",
        "    break\n",
        "\n"
      ]
    }
  ]
}